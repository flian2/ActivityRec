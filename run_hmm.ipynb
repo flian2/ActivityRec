{
 "cells": [
  {
   "cell_type": "code",
   "execution_count": 85,
   "metadata": {
    "collapsed": true
   },
   "outputs": [],
   "source": [
    "import numpy as np\n",
    "import pandas as pd\n",
    "import matplotlib.pyplot as plt\n",
    "%matplotlib inline\n",
    "from clean_data import *"
   ]
  },
  {
   "cell_type": "markdown",
   "metadata": {},
   "source": [
    "## Clean data and dimension reduction"
   ]
  },
  {
   "cell_type": "code",
   "execution_count": 86,
   "metadata": {
    "collapsed": true
   },
   "outputs": [],
   "source": [
    "# Prepare data for person 4. Use sequence 1~3 for training, 4~5 for testing.\n",
    "person = 4\n",
    "sadl_n = []\n",
    "for n in range(1, 6):\n",
    "    sadl_n.append(pd.read_table('data/S%d-ADL%d.dat' % (person, n), sep='\\s+', header=None, dtype=float))"
   ]
  },
  {
   "cell_type": "code",
   "execution_count": 87,
   "metadata": {
    "collapsed": false
   },
   "outputs": [
    {
     "name": "stdout",
     "output_type": "stream",
     "text": [
      "train_sample size:  (11809, 36)\n",
      "train_labels size:  (11809,)\n",
      "subsequence length:  [5199 3468 3142] . Sum of length:  11809\n",
      "test_sample size:  (6595, 36)\n",
      "test_labels size:  (6595,)\n",
      "subsequence length:  [2779 3816] . Sum of length:  6595\n"
     ]
    }
   ],
   "source": [
    "# Smooth data, time: col 0, features: col 1~36, labels: col 244 \n",
    "winsize = 15\n",
    "stepsize = 8\n",
    "\n",
    "# train data\n",
    "train_sample = np.empty((0, 36))\n",
    "train_labels = np.empty((0))\n",
    "train_len = []\n",
    "for i in range(0, 3):\n",
    "    features = moving_avg(sadl_n[i].iloc[:, 1:37], winsize, stepsize)\n",
    "    labels = moving_vote_majority(sadl_n[i].iloc[:, 244], winsize, stepsize)\n",
    "    train_sample = np.concatenate((train_sample, features), axis=0)\n",
    "    train_len.append(features.shape[0])\n",
    "    train_labels = np.concatenate( (train_labels, labels) )\n",
    "train_len = np.array(train_len)\n",
    "\n",
    "print \"train_sample size: \", train_sample.shape\n",
    "print \"train_labels size: \", train_labels.shape\n",
    "print \"subsequence length: \", train_len, \". Sum of length: \", np.sum(train_len)\n",
    "\n",
    "# test data\n",
    "test_sample = np.empty((0, 36))\n",
    "test_labels = np.empty((0))\n",
    "test_len = []\n",
    "for i in range(3, 5):\n",
    "    features = moving_avg(sadl_n[i].iloc[:, 1:37], winsize, stepsize)\n",
    "    labels = moving_vote_majority(sadl_n[i].iloc[:, 244], winsize, stepsize)\n",
    "    test_sample = np.concatenate((test_sample, features), axis=0)\n",
    "    test_len.append(features.shape[0])\n",
    "    test_labels = np.concatenate( (test_labels, labels) )\n",
    "test_len = np.array(test_len)  \n",
    "\n",
    "print \"test_sample size: \", test_sample.shape\n",
    "print \"test_labels size: \", test_labels.shape\n",
    "print \"subsequence length: \", test_len, \". Sum of length: \", np.sum(test_len)\n"
   ]
  },
  {
   "cell_type": "code",
   "execution_count": 88,
   "metadata": {
    "collapsed": false
   },
   "outputs": [
    {
     "data": {
      "text/plain": [
       "(False, False)"
      ]
     },
     "execution_count": 88,
     "metadata": {},
     "output_type": "execute_result"
    }
   ],
   "source": [
    "# Fill missing values\n",
    "col_threshold = 0.5\n",
    "train, test = fill_missing(train_sample, test_sample, col_threshold, True)\n",
    "np.any(np.isnan(train)), np.any(np.isnan(test))"
   ]
  },
  {
   "cell_type": "code",
   "execution_count": 89,
   "metadata": {
    "collapsed": false
   },
   "outputs": [],
   "source": [
    "# # Dimension reduction\n",
    "# from sklearn.decomposition import PCA\n",
    "# pca = PCA()\n",
    "# pca.fit(train)\n",
    "# var_thres = 0.95 # keep components to up to 95% total variance\n",
    "# n_comp = (pca.explained_variance_ratio_.cumsum() < var_thres).sum() + 1\n",
    "# print \"Keep %d compoments to retrain %f variance\" % (n_comp, var_thres)\n",
    "\n",
    "# pca_train = PCA(n_components=n_comp)\n",
    "# train_reduced = pca_train.fit_transform(train)\n",
    "# test_reduced = pca_train.fit_transform(test)\n",
    "# print \"Size of reduced dimension training data: \", train_reduced.shape\n",
    "# print \"Size of reduced dimension testing data: \", test_reduced.shape\n",
    "\n",
    "train_reduced = train\n",
    "test_reduced = test"
   ]
  },
  {
   "cell_type": "code",
   "execution_count": 90,
   "metadata": {
    "collapsed": true
   },
   "outputs": [],
   "source": [
    "# Cleaned data: train_reduced, test_reduced, train_labels, test_labels, train_len, test_len\n"
   ]
  },
  {
   "cell_type": "markdown",
   "metadata": {},
   "source": [
    "## Build hmm model"
   ]
  },
  {
   "cell_type": "code",
   "execution_count": 91,
   "metadata": {
    "collapsed": false
   },
   "outputs": [
    {
     "data": {
      "text/plain": [
       "array([[ 0.99845352,  0.00154648,  0.        ,  0.        ,  0.        ,\n",
       "         0.        ,  0.        ],\n",
       "       [ 0.        ,  0.998577  ,  0.001423  ,  0.        ,  0.        ,\n",
       "         0.        ,  0.        ],\n",
       "       [ 0.        ,  0.        ,  0.99787968,  0.00212032,  0.        ,\n",
       "         0.        ,  0.        ],\n",
       "       [ 0.        ,  0.        ,  0.        ,  0.99897959,  0.00102041,\n",
       "         0.        ,  0.        ],\n",
       "       [ 0.        ,  0.        ,  0.        ,  0.        ,  0.99856331,\n",
       "         0.00143669,  0.        ],\n",
       "       [ 0.        ,  0.        ,  0.        ,  0.        ,  0.        ,\n",
       "         0.99772359,  0.00227641]])"
      ]
     },
     "execution_count": 91,
     "metadata": {},
     "output_type": "execute_result"
    }
   ],
   "source": [
    "from hmm import DiscreteDistr, GaussDistr, GaussMixDistr\n",
    "from hmm import MarkovChain\n",
    "from hmm import HMM, make_leftright_hmm\n",
    "\n",
    "# Build a left-right hmm with 6 states, discrete output distribution, the output is the discrete label of activity\n",
    "label_transfer = (np.maximum(train_labels - 100, 0) + 1)[:, np.newaxis]\n",
    "# transform the labels into range 1~6. {0: 1, 101: 2, 102: 3, 103: 4, 104: 5, 105: 6}\n",
    "discreteD = DiscreteDistr(np.ones((6))) # a discrete distribution with 6 possible output\n",
    "n_states = 6\n",
    "\n",
    "hmm_state = make_leftright_hmm(n_states, discreteD, obs_data=label_transfer, l_data=train_len)\n",
    "hmm_state.state_gen.transition_prob"
   ]
  },
  {
   "cell_type": "code",
   "execution_count": 92,
   "metadata": {
    "collapsed": false
   },
   "outputs": [
    {
     "name": "stdout",
     "output_type": "stream",
     "text": [
      "[ 2.  0.  1.  1.  1.  1.] [0 3 2 5 4 0]\n",
      "state to activity label:  [0 3 2 5 4 1]\n",
      "activity label to state: [0 5 2 1 4 3]\n"
     ]
    }
   ],
   "source": [
    "# Assume there is 1-to-1 mapping between the hidden state and output label\n",
    "# Assign max probability activity label to each state\n",
    "state_act_label = np.array([np.argmax(hmm_state.output_distr[i].prob_mass) for i in range(0, n_states)])\n",
    "act_label_count = np.zeros((n_states)) # how many states correspond to label i\n",
    "for i in range(0, n_states):\n",
    "    act_label_count[i] = np.sum(state_act_label == i)\n",
    "print act_label_count, state_act_label\n",
    "\n",
    "# Resolve conflicts: when multiple states have the same activity label (a bit of heuristic)\n",
    "for n in range(0, n_states):\n",
    "    if act_label_count[n] > 1:\n",
    "        states = [j for j in range(0, n_states) if state_act_label[j] == n] # n is the activity label\n",
    "        state_win = states[0]\n",
    "        for state in states:\n",
    "            if hmm_state.output_distr[state].prob_mass[n] > hmm_state.output_distr[state_win].prob_mass[n]:\n",
    "                state_win = state\n",
    "        states.remove(state_win)\n",
    "        state_remain = states.pop()\n",
    "        state_act_label[state_remain] = np.argwhere(act_label_count == 0)# assign the label with zero counts to the state that remains\n",
    "\n",
    "actlabel2state = np.argsort(state_act_label)\n",
    "print \"state to activity label: \", state_act_label\n",
    "print \"activity label to state:\", actlabel2state"
   ]
  },
  {
   "cell_type": "code",
   "execution_count": 93,
   "metadata": {
    "collapsed": false
   },
   "outputs": [],
   "source": [
    "# Reorder the Markov chain in the order of activity labels\n",
    "transprob_new = hmm_state.state_gen.transition_prob\n",
    "transprob_new = transprob_new[actlabel2state, :]\n",
    "transprob_new[:, :n_states] = transprob_new[:, actlabel2state]\n",
    "# Reorder initial prob\n",
    "initprob_new = hmm_state.state_gen.initial_prob[actlabel2state]\n",
    "mc_label = MarkovChain(q=initprob_new, A=transprob_new)"
   ]
  },
  {
   "cell_type": "code",
   "execution_count": 101,
   "metadata": {
    "collapsed": false
   },
   "outputs": [
    {
     "name": "stdout",
     "output_type": "stream",
     "text": [
      "0 6\n",
      "[ 0.02677354  0.39126939  0.          0.          0.45957693  0.12238013]\n",
      "1 6\n",
      "[ 0.33369904  0.15146825  0.35563642  0.05409582  0.10510046  0.        ]\n",
      "2 6\n",
      "[ 0.1666667   0.16666664  0.16666664  0.16666672  0.16666665  0.16666664]\n",
      "3 6\n",
      "[ 0.26596831  0.1456456   0.14286377  0.15331029  0.14608806  0.14612398]\n",
      "4 6\n",
      "[ 0.39861192  0.1219653   0.          0.39660966  0.08281313  0.        ]\n",
      "5 6\n",
      "[ 0.0704036   0.27987071  0.0464347   0.5052222   0.02739423  0.07067456]\n"
     ]
    }
   ],
   "source": [
    "# Train output distribution\n",
    "train_label_transfer = np.maximum(0, train_labels - 100)\n",
    "outputdistr_gmm = []\n",
    "n_mix = [6, 6, 6, 6, 6, 6]\n",
    "for i in range(0, n_states):\n",
    "    gmm = GaussMixDistr(gauss=n_mix[i])\n",
    "    gmm.init_by_data(train_reduced[train_label_transfer == i, :])\n",
    "    gmm.train(train_reduced[train_label_transfer == i, :])\n",
    "    outputdistr_gmm.append(gmm)\n",
    "    \n",
    "for i in range(0, n_states):\n",
    "    print i, len(outputdistr_gmm[i].gaussians)\n",
    "    print outputdistr_gmm[i].mix_weight"
   ]
  },
  {
   "cell_type": "code",
   "execution_count": 102,
   "metadata": {
    "collapsed": false
   },
   "outputs": [
    {
     "data": {
      "text/plain": [
       "36"
      ]
     },
     "execution_count": 102,
     "metadata": {},
     "output_type": "execute_result"
    }
   ],
   "source": [
    "outputdistr_gmm[0].data_size"
   ]
  },
  {
   "cell_type": "code",
   "execution_count": 103,
   "metadata": {
    "collapsed": true
   },
   "outputs": [],
   "source": [
    "# Make new hmm\n",
    "hmm_gmm = HMM(markov_chain=mc_label, output_distr=outputdistr_gmm)"
   ]
  },
  {
   "cell_type": "code",
   "execution_count": 104,
   "metadata": {
    "collapsed": false
   },
   "outputs": [
    {
     "data": {
      "text/plain": [
       "<matplotlib.text.Text at 0x10ac1f310>"
      ]
     },
     "execution_count": 104,
     "metadata": {},
     "output_type": "execute_result"
    },
    {
     "data": {
      "image/png": "[encoded data removed]",
      "text/plain": [
       "<matplotlib.figure.Figure at 0x10ad0b110>"
      ]
     },
     "metadata": {},
     "output_type": "display_data"
    }
   ],
   "source": [
    "# Test with ADL4, ADL5\n",
    "seq4, logP4 = hmm_gmm.viterbi(test_reduced[:test_len[0], :])\n",
    "seq5, logP5 = hmm_gmm.viterbi(test_reduced[test_len[0]: test_len[0] + test_len[1], :])\n",
    "\n",
    "plt.plot(seq4 - 1, '.', label=\"estimated label\")\n",
    "plt.plot(np.maximum(0, test_labels[: test_len[0]] - 100), '-', label=\"true label\")\n",
    "plt.xlabel('time step')\n",
    "plt.ylabel('Activity label')\n",
    "plt.title(\"ADL4\")\n"
   ]
  },
  {
   "cell_type": "code",
   "execution_count": null,
   "metadata": {
    "collapsed": true
   },
   "outputs": [],
   "source": []
  }
 ],
 "metadata": {
  "kernelspec": {
   "display_name": "Python 2",
   "language": "python",
   "name": "python2"
  },
  "language_info": {
   "codemirror_mode": {
    "name": "ipython",
    "version": 2
   },
   "file_extension": ".py",
   "mimetype": "text/x-python",
   "name": "python",
   "nbconvert_exporter": "python",
   "pygments_lexer": "ipython2",
   "version": "2.7.3"
  }
 },
 "nbformat": 4,
 "nbformat_minor": 0
}
