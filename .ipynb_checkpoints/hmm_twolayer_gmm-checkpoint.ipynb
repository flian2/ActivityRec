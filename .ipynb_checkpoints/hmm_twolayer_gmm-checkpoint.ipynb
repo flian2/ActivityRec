{
 "cells": [
  {
   "cell_type": "code",
   "execution_count": 256,
   "metadata": {
    "collapsed": true
   },
   "outputs": [],
   "source": [
    "import numpy as np\n",
    "import pandas as pd\n",
    "import matplotlib.pyplot as plt\n",
    "%matplotlib inline\n",
    "from clean_data import *"
   ]
  },
  {
   "cell_type": "markdown",
   "metadata": {},
   "source": [
    "## Clean data and dimension reduction"
   ]
  },
  {
   "cell_type": "code",
   "execution_count": 257,
   "metadata": {
    "collapsed": true
   },
   "outputs": [],
   "source": [
    "# Prepare data for person 4. Use sequence 1~3 for training, 4~5 for testing.\n",
    "person = 2\n",
    "sadl_n = []\n",
    "for n in range(1, 6):\n",
    "    sadl_n.append(pd.read_table('data/S%d-ADL%d.dat' % (person, n), sep='\\s+', header=None, dtype=float))"
   ]
  },
  {
   "cell_type": "code",
   "execution_count": 258,
   "metadata": {
    "collapsed": false
   },
   "outputs": [
    {
     "name": "stdout",
     "output_type": "stream",
     "text": [
      "(42797, 250)\n",
      "(5349, 36)\n",
      "(30182, 250)\n",
      "(3772, 36)\n",
      "(34232, 250)\n",
      "(4278, 36)\n",
      "train_sample size:  (13399, 36)\n",
      "train_labels size:  (13399,)\n",
      "subsequence length:  [5349 3772 4278] . Sum of length:  13399\n",
      "test_sample size:  (8071, 36)\n",
      "test_labels size:  (8071,)\n",
      "subsequence length:  [4093 3978] . Sum of length:  8071\n"
     ]
    }
   ],
   "source": [
    "# Smooth data, time: col 0, features: col 1~36, labels: col 244 \n",
    "winsize = 15\n",
    "stepsize = 8\n",
    "\n",
    "# train data\n",
    "train_sample = np.empty((0, 36))\n",
    "train_labels = np.empty((0))\n",
    "train_len = []\n",
    "for i in range(0, 3):\n",
    "    print sadl_n[i].shape\n",
    "    features = moving_avg(sadl_n[i].iloc[:, 1:37], winsize, stepsize)\n",
    "    print features.shape\n",
    "    labels = moving_vote_majority(sadl_n[i].iloc[:, 244], winsize, stepsize)\n",
    "    train_sample = np.concatenate((train_sample, features), axis=0)\n",
    "    train_len.append(features.shape[0])\n",
    "    train_labels = np.concatenate( (train_labels, labels) )\n",
    "train_len = np.array(train_len)\n",
    "\n",
    "print \"train_sample size: \", train_sample.shape\n",
    "print \"train_labels size: \", train_labels.shape\n",
    "print \"subsequence length: \", train_len, \". Sum of length: \", np.sum(train_len)\n",
    "\n",
    "# test data\n",
    "test_sample = np.empty((0, 36))\n",
    "test_labels = np.empty((0))\n",
    "test_len = []\n",
    "for i in range(3, 5):\n",
    "    features = moving_avg(sadl_n[i].iloc[:, 1:37], winsize, stepsize)\n",
    "    labels = moving_vote_majority(sadl_n[i].iloc[:, 244], winsize, stepsize)\n",
    "    test_sample = np.concatenate((test_sample, features), axis=0)\n",
    "    test_len.append(features.shape[0])\n",
    "    test_labels = np.concatenate( (test_labels, labels) )\n",
    "test_len = np.array(test_len)  \n",
    "\n",
    "print \"test_sample size: \", test_sample.shape\n",
    "print \"test_labels size: \", test_labels.shape\n",
    "print \"subsequence length: \", test_len, \". Sum of length: \", np.sum(test_len)\n"
   ]
  },
  {
   "cell_type": "code",
   "execution_count": 259,
   "metadata": {
    "collapsed": false
   },
   "outputs": [
    {
     "name": "stdout",
     "output_type": "stream",
     "text": [
      "(13399, 36)\n"
     ]
    }
   ],
   "source": [
    "# Fill missing values\n",
    "col_threshold = 0.5\n",
    "train, test = fill_missing(train_sample, test_sample, col_threshold, True)\n",
    "np.any(np.isnan(train)), np.any(np.isnan(test))\n",
    "print train.shape"
   ]
  },
  {
   "cell_type": "code",
   "execution_count": 260,
   "metadata": {
    "collapsed": true
   },
   "outputs": [],
   "source": [
    "# Normalize features\n",
    "from sklearn.preprocessing import StandardScaler\n",
    "scalar = StandardScaler() # center to mean and normalize to unit variance\n",
    "train_normalized = scalar.fit_transform(train)\n",
    "test_normalized = scalar.transform(test)\n",
    "train_reduced = train_normalized\n",
    "test_reduced = test_normalized\n",
    "# Cleaned data: train_reduced, test_reduced, train_labels, test_labels, train_len, test_len"
   ]
  },
  {
   "cell_type": "code",
   "execution_count": 261,
   "metadata": {
    "collapsed": false
   },
   "outputs": [
    {
     "name": "stdout",
     "output_type": "stream",
     "text": [
      "Keep 19 compoments to retrain 0.950000 variance\n",
      "Size of reduced dimension training data:  (13399, 19)\n",
      "Size of reduced dimension testing data:  (8071, 19)\n"
     ]
    }
   ],
   "source": [
    "# Dimension reduction\n",
    "from sklearn.decomposition import PCA\n",
    "pca = PCA()\n",
    "pca.fit(train_normalized)\n",
    "var_thres = 0.95 # keep components to up to 95% total variance\n",
    "n_comp = (pca.explained_variance_ratio_.cumsum() < var_thres).sum() + 1\n",
    "print \"Keep %d compoments to retrain %f variance\" % (n_comp, var_thres)\n",
    "\n",
    "pca_train = PCA(n_components=n_comp)\n",
    "train_reduced = pca_train.fit_transform(train_normalized)\n",
    "test_reduced = pca_train.transform(test_normalized)\n",
    "print \"Size of reduced dimension training data: \", train_reduced.shape\n",
    "print \"Size of reduced dimension testing data: \", test_reduced.shape\n"
   ]
  },
  {
   "cell_type": "markdown",
   "metadata": {},
   "source": [
    "## Initialize left-right hmm model with 6 states"
   ]
  },
  {
   "cell_type": "code",
   "execution_count": 262,
   "metadata": {
    "collapsed": false
   },
   "outputs": [
    {
     "name": "stdout",
     "output_type": "stream",
     "text": [
      "[  5.57827476e-01   4.42172524e-01   0.00000000e+00   1.35262785e-14\n",
      "   0.00000000e+00   0.00000000e+00]\n",
      "[  1.55643813e-010   2.17759606e-115   1.29772236e-073   1.00000000e+000\n",
      "   0.00000000e+000   0.00000000e+000]\n",
      "[  4.86604699e-02   0.00000000e+00   9.51339530e-01   6.95850483e-16\n",
      "   0.00000000e+00   2.51368639e-15]\n",
      "[  6.48569249e-011   0.00000000e+000   1.93915867e-176   0.00000000e+000\n",
      "   8.29013566e-023   1.00000000e+000]\n",
      "[ 0.01301066  0.          0.          0.          0.13606409  0.85092525]\n",
      "[ 0.31742581  0.09706975  0.          0.          0.58550444  0.        ]\n"
     ]
    }
   ],
   "source": [
    "from hmm import DiscreteDistr, GaussDistr, GaussMixDistr\n",
    "from hmm import MarkovChain\n",
    "from hmm import HMM, make_leftright_hmm\n",
    "\n",
    "# Build a left-right hmm with 6 states, discrete output distribution, the output is the discrete label of activity\n",
    "label_transfer = (np.maximum(train_labels - 100, 0) + 1)[:, np.newaxis]\n",
    "# transform the labels into range 1~6. {0: 1, 101: 2, 102: 3, 103: 4, 104: 5, 105: 6}\n",
    "discreteD = DiscreteDistr(np.ones((6))) # a discrete distribution with 6 possible output\n",
    "n_states = 6\n",
    "\n",
    "hmm_state = make_leftright_hmm(n_states, discreteD, obs_data=label_transfer, l_data=train_len)\n",
    "for i in range(0, n_states):\n",
    "    print hmm_state.output_distr[i].prob_mass"
   ]
  },
  {
   "cell_type": "code",
   "execution_count": 263,
   "metadata": {
    "collapsed": false
   },
   "outputs": [
    {
     "name": "stdout",
     "output_type": "stream",
     "text": [
      "[ 1.  0.  1.  1.  1.  2.] [0 3 2 5 5 4]\n",
      "transition prob for left-right hmm: \n",
      "[[  9.98083067e-01   1.91693291e-03   0.00000000e+00   0.00000000e+00\n",
      "    0.00000000e+00   0.00000000e+00   0.00000000e+00]\n",
      " [  0.00000000e+00   9.98904710e-01   1.09529025e-03   0.00000000e+00\n",
      "    0.00000000e+00   0.00000000e+00   0.00000000e+00]\n",
      " [  0.00000000e+00   0.00000000e+00   9.98359759e-01   1.64024057e-03\n",
      "    0.00000000e+00   0.00000000e+00   0.00000000e+00]\n",
      " [  0.00000000e+00   0.00000000e+00   0.00000000e+00   9.99187802e-01\n",
      "    8.12198100e-04   0.00000000e+00   0.00000000e+00]\n",
      " [  0.00000000e+00   0.00000000e+00   0.00000000e+00   1.00000000e-04\n",
      "    3.07874663e-01   6.92025337e-01   0.00000000e+00]\n",
      " [  0.00000000e+00   0.00000000e+00   0.00000000e+00   0.00000000e+00\n",
      "    0.00000000e+00   9.99016185e-01   9.83815015e-04]]\n",
      "state to activity label:  [0 3 2 5 5 4]\n",
      "activity label to state: [0 2 1 5 3 4]\n",
      "transition prob before prune:\n",
      "[[  9.98083067e-01   1.91693291e-03   0.00000000e+00   0.00000000e+00\n",
      "    0.00000000e+00   0.00000000e+00   0.00000000e+00]\n",
      " [  0.00000000e+00   9.98904710e-01   1.09529025e-03   0.00000000e+00\n",
      "    0.00000000e+00   0.00000000e+00   0.00000000e+00]\n",
      " [  0.00000000e+00   0.00000000e+00   9.98359759e-01   1.64024057e-03\n",
      "    0.00000000e+00   0.00000000e+00   0.00000000e+00]\n",
      " [  0.00000000e+00   0.00000000e+00   0.00000000e+00   9.99287867e-01\n",
      "    7.12133338e-04   0.00000000e+00   0.00000000e+00]\n",
      " [  0.00000000e+00   0.00000000e+00   0.00000000e+00   3.68722337e-05\n",
      "    1.18675895e-01   8.81287233e-01   0.00000000e+00]\n",
      " [  0.00000000e+00   0.00000000e+00   0.00000000e+00   0.00000000e+00\n",
      "    0.00000000e+00   9.99016305e-01   9.83695120e-04]]\n"
     ]
    }
   ],
   "source": [
    "# Assume there is 1-to-1 mapping between the hidden state and output label\n",
    "# Assign max probability activity label to each state\n",
    "state_act_label = np.array([np.argmax(hmm_state.output_distr[i].prob_mass) for i in range(0, n_states)])\n",
    "act_label_count = np.zeros((n_states)) # how many states correspond to label i\n",
    "for i in range(0, n_states):\n",
    "    act_label_count[i] = np.sum(state_act_label == i)\n",
    "print act_label_count, state_act_label\n",
    "\n",
    "transition_prob = hmm_state.state_gen.transition_prob\n",
    "initial_prob = hmm_state.state_gen.initial_prob\n",
    "\n",
    "# Resolve conflicts: when multiple states have the same activity label (a bit of heuristic)\n",
    "for n in range(0, n_states):\n",
    "    if act_label_count[n] > 1:\n",
    "        t_states = [j for j in range(0, n_states) if state_act_label[j] == n] # n is the activity label\n",
    "        for s1 in t_states:\n",
    "            # allow s1 to transition into other states in t_states\n",
    "            for s2 in t_states:\n",
    "                if s2 != s1:\n",
    "                    transition_prob[s1, s2] += 1e-4\n",
    "                    transition_prob[s1, s1] -= 1e-4\n",
    "                    if transition_prob[s1, -1] == 0 and transition_prob[s2, -1] > 0:\n",
    "                        transition_prob[s1, -1] += 1e-4\n",
    "                        transition_prob[s1, s1] -= 1e-4\n",
    "                    \n",
    "        for s1 in t_states:\n",
    "            if initial_prob[s1] == 1:\n",
    "                initial_prob[t_states] = hmm_state.output_distr[s1].prob_mass[t_states]\n",
    "print \"transition prob for left-right hmm: \"\n",
    "print transition_prob\n",
    "\n",
    "# Train new hmm\n",
    "hmm_state.transition_prob = transition_prob\n",
    "hmm_state.initial_prob = initial_prob\n",
    "hmm_state.train(obs_data=label_transfer, l_data=train_len)\n",
    "\n",
    "state_act_label = np.array([np.argmax(hmm_state.output_distr[i].prob_mass) for i in range(0, n_states)])\n",
    "actlabel2state = np.argsort(state_act_label)\n",
    "print \"state to activity label: \", state_act_label\n",
    "print \"activity label to state:\", actlabel2state\n",
    "\n",
    "print \"transition prob before prune:\"\n",
    "print hmm_state.state_gen.transition_prob\n",
    "\n",
    "# Prune new hmm to leftright hmm\n",
    "for i in range(0, n_states):\n",
    "    for j in range(0, n_states):\n",
    "        if j == i or j == i + 1 or j == n_states:\n",
    "            continue\n",
    "        hmm_state.state_gen.transition_prob[i, j] = 0"
   ]
  },
  {
   "cell_type": "code",
   "execution_count": 264,
   "metadata": {
    "collapsed": false
   },
   "outputs": [
    {
     "name": "stdout",
     "output_type": "stream",
     "text": [
      "transition prob after permutation:\n",
      "[[  9.98083067e-01   0.00000000e+00   1.91693291e-03   0.00000000e+00\n",
      "    0.00000000e+00   0.00000000e+00   0.00000000e+00]\n",
      " [  0.00000000e+00   9.98359759e-01   0.00000000e+00   0.00000000e+00\n",
      "    1.64024057e-03   0.00000000e+00   0.00000000e+00]\n",
      " [  0.00000000e+00   1.09529025e-03   9.98904710e-01   0.00000000e+00\n",
      "    0.00000000e+00   0.00000000e+00   0.00000000e+00]\n",
      " [  0.00000000e+00   0.00000000e+00   0.00000000e+00   9.99016305e-01\n",
      "    0.00000000e+00   0.00000000e+00   9.83695120e-04]\n",
      " [  0.00000000e+00   0.00000000e+00   0.00000000e+00   0.00000000e+00\n",
      "    9.99287867e-01   7.12133338e-04   0.00000000e+00]\n",
      " [  0.00000000e+00   0.00000000e+00   0.00000000e+00   8.81287233e-01\n",
      "    0.00000000e+00   1.18675895e-01   0.00000000e+00]]\n",
      "[ 1.  0.  0.  0.  0.  0.]\n"
     ]
    }
   ],
   "source": [
    "# Reorder the Markov chain in the order of activity labels\n",
    "transprob_new = hmm_state.state_gen.transition_prob\n",
    "transprob_new = transprob_new[actlabel2state, :]\n",
    "transprob_new[:, :n_states] = transprob_new[:, actlabel2state]\n",
    "# Reorder initial prob\n",
    "initprob_new = hmm_state.state_gen.initial_prob[actlabel2state]\n",
    "# initprob_new = hmm_state.state_gen.initial_prob\n",
    "mc_label = MarkovChain(q=initprob_new, A=transprob_new)\n",
    "print \"transition prob after permutation:\"\n",
    "print transprob_new\n",
    "print initprob_new"
   ]
  },
  {
   "cell_type": "code",
   "execution_count": 265,
   "metadata": {
    "collapsed": false
   },
   "outputs": [
    {
     "data": {
      "text/html": [
       "<div>\n",
       "<table border=\"1\" class=\"dataframe\">\n",
       "  <thead>\n",
       "    <tr style=\"text-align: right;\">\n",
       "      <th></th>\n",
       "      <th>n_mixture</th>\n",
       "      <th>mean_loglikelihood</th>\n",
       "    </tr>\n",
       "  </thead>\n",
       "  <tbody>\n",
       "    <tr>\n",
       "      <th>0</th>\n",
       "      <td>5</td>\n",
       "      <td>-16.26871</td>\n",
       "    </tr>\n",
       "    <tr>\n",
       "      <th>101</th>\n",
       "      <td>5</td>\n",
       "      <td>-21.17814</td>\n",
       "    </tr>\n",
       "    <tr>\n",
       "      <th>102</th>\n",
       "      <td>2</td>\n",
       "      <td>-22.63457</td>\n",
       "    </tr>\n",
       "    <tr>\n",
       "      <th>103</th>\n",
       "      <td>1</td>\n",
       "      <td>-22.2329</td>\n",
       "    </tr>\n",
       "    <tr>\n",
       "      <th>104</th>\n",
       "      <td>3</td>\n",
       "      <td>-15.0139</td>\n",
       "    </tr>\n",
       "    <tr>\n",
       "      <th>105</th>\n",
       "      <td>1</td>\n",
       "      <td>-26.28948</td>\n",
       "    </tr>\n",
       "  </tbody>\n",
       "</table>\n",
       "</div>"
      ],
      "text/plain": [
       "    n_mixture mean_loglikelihood\n",
       "0           5          -16.26871\n",
       "101         5          -21.17814\n",
       "102         2          -22.63457\n",
       "103         1           -22.2329\n",
       "104         3           -15.0139\n",
       "105         1          -26.28948"
      ]
     },
     "execution_count": 265,
     "metadata": {},
     "output_type": "execute_result"
    }
   ],
   "source": [
    "# Train output distribution\n",
    "def search_num_mixtures_likelihood(features, train_len, n_mix):\n",
    "    # Use cross validation on loglikehood to find the optimal number of mixtures for each class label\n",
    "    # return: \n",
    "    # gmm: the gmm model that gives the highest mean logprob\n",
    "    # N: number of gaussian mixtures in the gmm\n",
    "    # logp_x: mean of logP(Xt | gmm) for the chosen gmm\n",
    "    mean_logprob = [0 for i in range(0, len(n_mix))] # mean of logP(Xt | gmm)\n",
    "    start_ind = [0] + list(np.cumsum(train_len)[:-1].astype(int))\n",
    "    for i, N in enumerate(n_mix):\n",
    "        # K-fold cross validataion, each fold is one subsequence\n",
    "        n_folds = len(train_len)\n",
    "        likelihood_scores = []\n",
    "        for k in range(0, n_folds):\n",
    "            val_mask = np.zeros((features.shape[0])).astype(bool)\n",
    "            val_mask[start_ind[k]: start_ind[k] + train_len[k]] = True\n",
    "            train_mask = np.logical_not(val_mask)\n",
    "            gmm = GaussMixDistr(gauss=N)\n",
    "            gmm.init_by_data(features[train_mask, :])\n",
    "            gmm.train(features[train_mask, :])\n",
    "            logprob_x = gmm.logprob(features[val_mask, :])\n",
    "            likelihood_scores.append(np.mean(logprob_x))    \n",
    "        mean_logprob[i] = np.mean(likelihood_scores)\n",
    "    # Refit gmm using all data with selected number of mixtures\n",
    "    gmm_list = [] # one gmm model for each \"number of components\"\n",
    "    i_gmm = np.argmax(mean_logprob)\n",
    "    n_components = n_mix[i_gmm]\n",
    "    gmm_opt = GaussMixDistr(gauss=n_components)\n",
    "    gmm_opt.init_by_data(features)\n",
    "    gmm_opt.train(features)\n",
    "    likelihood_score = np.mean(gmm_opt.logprob(features))\n",
    "    return gmm_opt, n_components, likelihood_score\n",
    "\n",
    "def make_outputdistr(train, train_len, train_labels, class2label):\n",
    "    outputdistr_stats = pd.DataFrame(index=class2label, columns=['n_mixture', 'mean_loglikelihood'])\n",
    "    outputdistr_gmm = []\n",
    "    n_mix = range(1, 11)\n",
    "    start_ind = [0] + list(np.cumsum(train_len)[:-1].astype(int))\n",
    "    for i, label in enumerate(class2label):\n",
    "        per_label_trainlen = [sum(train_labels[start_ind[k]: start_ind[k] + length] == label) for k, length in enumerate(train_len)]\n",
    "        gmm, N, logprob = search_num_mixtures_likelihood(train[train_labels == label], per_label_trainlen, n_mix)\n",
    "        outputdistr_gmm.append(gmm)\n",
    "        outputdistr_stats.iloc[i, :] = [N, logprob]\n",
    "    return outputdistr_gmm, outputdistr_stats\n",
    "\n",
    "class2label = [0, 101, 102, 103, 104, 105]\n",
    "outputdistr_gmm, outputdistr_stats = make_outputdistr(train_reduced, train_len, train_labels, class2label)\n",
    "outputdistr_stats"
   ]
  },
  {
   "cell_type": "code",
   "execution_count": 272,
   "metadata": {
    "collapsed": false
   },
   "outputs": [
    {
     "data": {
      "text/html": [
       "<div>\n",
       "<table border=\"1\" class=\"dataframe\">\n",
       "  <thead>\n",
       "    <tr style=\"text-align: right;\">\n",
       "      <th></th>\n",
       "      <th>n_mixture</th>\n",
       "      <th>mean_loglikelihood</th>\n",
       "    </tr>\n",
       "  </thead>\n",
       "  <tbody>\n",
       "    <tr>\n",
       "      <th>0</th>\n",
       "      <td>6</td>\n",
       "      <td>-15.40081</td>\n",
       "    </tr>\n",
       "    <tr>\n",
       "      <th>101</th>\n",
       "      <td>2</td>\n",
       "      <td>-28.51239</td>\n",
       "    </tr>\n",
       "    <tr>\n",
       "      <th>102</th>\n",
       "      <td>6</td>\n",
       "      <td>-19.54814</td>\n",
       "    </tr>\n",
       "    <tr>\n",
       "      <th>103</th>\n",
       "      <td>6</td>\n",
       "      <td>-15.75733</td>\n",
       "    </tr>\n",
       "    <tr>\n",
       "      <th>104</th>\n",
       "      <td>6</td>\n",
       "      <td>-14.04068</td>\n",
       "    </tr>\n",
       "    <tr>\n",
       "      <th>105</th>\n",
       "      <td>2</td>\n",
       "      <td>-25.13629</td>\n",
       "    </tr>\n",
       "  </tbody>\n",
       "</table>\n",
       "</div>"
      ],
      "text/plain": [
       "    n_mixture mean_loglikelihood\n",
       "0           6          -15.40081\n",
       "101         2          -28.51239\n",
       "102         6          -19.54814\n",
       "103         6          -15.75733\n",
       "104         6          -14.04068\n",
       "105         2          -25.13629"
      ]
     },
     "execution_count": 272,
     "metadata": {},
     "output_type": "execute_result"
    }
   ],
   "source": [
    "def make_outputdistr_given_nmix(train, train_labels, class2label, n_mix):\n",
    "    # given the number of components for each label\n",
    "    outputdistr_stats = pd.DataFrame(index=class2label, columns=['n_mixture', 'mean_loglikelihood'])\n",
    "    outputdistr_gmm = []\n",
    "    \n",
    "    for i, label in enumerate(class2label):\n",
    "        gmm = GaussMixDistr(gauss=n_mix[i])\n",
    "        gmm.init_by_data(train[train_labels == label, :])\n",
    "        gmm.train(train[train_labels == label, :])\n",
    "        outputdistr_gmm.append(gmm)\n",
    "        outputdistr_stats.iloc[i, :] = [n_mix[i], gmm.logprob(train[train_labels == label, :]).mean()]\n",
    "    return outputdistr_gmm, outputdistr_stats\n",
    "\n",
    "n_mix = [6, 2, 6, 6, 6, 2]\n",
    "outputdistr_gmm_opt, stats = make_outputdistr_given_nmix(train_reduced, train_labels, class2label, n_mix)\n",
    "stats"
   ]
  },
  {
   "cell_type": "code",
   "execution_count": 273,
   "metadata": {
    "collapsed": true
   },
   "outputs": [],
   "source": [
    "# Make new hmm\n",
    "hmm_gmm = HMM(markov_chain=mc_label, output_distr=outputdistr_gmm_opt)"
   ]
  },
  {
   "cell_type": "code",
   "execution_count": 274,
   "metadata": {
    "collapsed": false
   },
   "outputs": [
    {
     "name": "stdout",
     "output_type": "stream",
     "text": [
      "accuracy:  0.683186717879\n"
     ]
    },
    {
     "data": {
      "image/png": "[encoded data removed]",
      "text/plain": [
       "<matplotlib.figure.Figure at 0x109331850>"
      ]
     },
     "metadata": {},
     "output_type": "display_data"
    }
   ],
   "source": [
    "# Test with ADL4, ADL5\n",
    "seq4, logP4 = hmm_gmm.viterbi(test_reduced[:test_len[0], :])\n",
    "seq5, logP5 = hmm_gmm.viterbi(test_reduced[test_len[0]: test_len[0] + test_len[1], :])\n",
    "\n",
    "predicted_labels = np.concatenate((seq4 - 1, seq5 - 1))\n",
    "true_labels = np.maximum(0, test_labels - 100)\n",
    "\n",
    "plt.plot(predicted_labels, '.', label=\"estimated label\")\n",
    "plt.plot(true_labels, '-', label=\"true label\")\n",
    "plt.xlabel('time step')\n",
    "plt.ylabel('Activity label')\n",
    "plt.title(\"ADL4, ADL5\")\n",
    "\n",
    "print \"accuracy: \", sum(predicted_labels == true_labels) / float(len(true_labels))"
   ]
  },
  {
   "cell_type": "code",
   "execution_count": 269,
   "metadata": {
    "collapsed": false
   },
   "outputs": [
    {
     "name": "stdout",
     "output_type": "stream",
     "text": [
      "Weighted F1 score:  0.630768451739\n"
     ]
    },
    {
     "data": {
      "text/html": [
       "<div>\n",
       "<table border=\"1\" class=\"dataframe\">\n",
       "  <thead>\n",
       "    <tr style=\"text-align: right;\">\n",
       "      <th></th>\n",
       "      <th>precision</th>\n",
       "      <th>recall</th>\n",
       "    </tr>\n",
       "  </thead>\n",
       "  <tbody>\n",
       "    <tr>\n",
       "      <th>0</th>\n",
       "      <td>0.2925072</td>\n",
       "      <td>0.8094099</td>\n",
       "    </tr>\n",
       "    <tr>\n",
       "      <th>1</th>\n",
       "      <td>0.9836364</td>\n",
       "      <td>0.9507909</td>\n",
       "    </tr>\n",
       "    <tr>\n",
       "      <th>2</th>\n",
       "      <td>0.5877193</td>\n",
       "      <td>0.5120087</td>\n",
       "    </tr>\n",
       "    <tr>\n",
       "      <th>3</th>\n",
       "      <td>0.997416</td>\n",
       "      <td>0.4948718</td>\n",
       "    </tr>\n",
       "    <tr>\n",
       "      <th>4</th>\n",
       "      <td>0.4640821</td>\n",
       "      <td>0.4721578</td>\n",
       "    </tr>\n",
       "    <tr>\n",
       "      <th>5</th>\n",
       "      <td>0.9993758</td>\n",
       "      <td>0.5501718</td>\n",
       "    </tr>\n",
       "  </tbody>\n",
       "</table>\n",
       "</div>"
      ],
      "text/plain": [
       "   precision     recall\n",
       "0  0.2925072  0.8094099\n",
       "1  0.9836364  0.9507909\n",
       "2  0.5877193  0.5120087\n",
       "3   0.997416  0.4948718\n",
       "4  0.4640821  0.4721578\n",
       "5  0.9993758  0.5501718"
      ]
     },
     "execution_count": 269,
     "metadata": {},
     "output_type": "execute_result"
    }
   ],
   "source": [
    "from sklearn.metrics import f1_score\n",
    "from sklearn.metrics import precision_recall_fscore_support\n",
    "print \"Weighted F1 score: \", f1_score(true_labels, predicted_labels, average='weighted') \n",
    "\n",
    "precision, recall , _, _ = precision_recall_fscore_support(true_labels, predicted_labels, average=None, labels=[0, 1, 2, 3, 4, 5])\n",
    "pr_table = pd.DataFrame(index=range(0, 6), columns=['precision', 'recall'])\n",
    "for i in range(0, n_states):\n",
    "    pr_table.iloc[i, :] = [precision[i], recall[i]]\n",
    "pr_table"
   ]
  },
  {
   "cell_type": "code",
   "execution_count": 270,
   "metadata": {
    "collapsed": false
   },
   "outputs": [],
   "source": [
    "# Check if the results conforms with transition prob\n",
    "# For label 5, collect trainsition i -> 5. \n",
    "# i should only be in {2, 5}\n",
    "import collections\n",
    "def count_state(label_seq, n_states):\n",
    "   \n",
    "    label_seq = (label_seq)\n",
    "    counter_list = [collections.Counter() for i in range(0, n_states)]\n",
    "    for t in range(1, len(label_seq)):\n",
    "        counter_list[int(label_seq[t])][int(label_seq[t - 1])] += 1\n",
    "    return counter_list\n",
    "\n",
    "count = count_state(predicted_labels, 6)"
   ]
  },
  {
   "cell_type": "code",
   "execution_count": 271,
   "metadata": {
    "collapsed": false
   },
   "outputs": [
    {
     "name": "stdout",
     "output_type": "stream",
     "text": [
      "state j =  0  state i:  Counter({0: 3463, 1: 3, 5: 2, 4: 1})\n",
      "state j =  1  state i:  Counter({1: 543, 2: 7})\n",
      "state j =  2  state i:  Counter({2: 791, 0: 6, 3: 1})\n",
      "state j =  3  state i:  Counter({3: 773, 5: 1})\n",
      "state j =  4  state i:  Counter({4: 873, 1: 4})\n",
      "state j =  5  state i:  Counter({5: 1599, 4: 3})\n"
     ]
    }
   ],
   "source": [
    "for state in range(0, n_states):\n",
    "    print \"state j = \", state, \" state i: \", count[state]"
   ]
  },
  {
   "cell_type": "markdown",
   "metadata": {},
   "source": [
    "## Tune gmm parameters using cross validation for final F1 score"
   ]
  },
  {
   "cell_type": "code",
   "execution_count": null,
   "metadata": {
    "collapsed": true
   },
   "outputs": [],
   "source": []
  }
 ],
 "metadata": {
  "kernelspec": {
   "display_name": "Python 2",
   "language": "python",
   "name": "python2"
  },
  "language_info": {
   "codemirror_mode": {
    "name": "ipython",
    "version": 2
   },
   "file_extension": ".py",
   "mimetype": "text/x-python",
   "name": "python",
   "nbconvert_exporter": "python",
   "pygments_lexer": "ipython2",
   "version": "2.7.3"
  }
 },
 "nbformat": 4,
 "nbformat_minor": 0
}
